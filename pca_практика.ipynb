{
 "cells": [
  {
   "cell_type": "code",
   "execution_count": 1,
   "metadata": {},
   "outputs": [],
   "source": [
    "import numpy as np\n",
    "from matplotlib import pyplot as plt"
   ]
  },
  {
   "cell_type": "code",
   "execution_count": 12,
   "metadata": {},
   "outputs": [
    {
     "name": "stdout",
     "output_type": "stream",
     "text": [
      "[[ 1.          2.          3.          4.          5.          6.\n",
      "   7.          8.          9.         10.        ]\n",
      " [ 1.23477655  4.62462013  7.92565967  9.29789386  8.4618402  11.3966551\n",
      "  13.92171667 15.49346112 19.38371322 20.14584859]]\n"
     ]
    }
   ],
   "source": [
    "# Есть 2 вектора\n",
    "x = np.arange(1,11)\n",
    "y = 2 * x + np.random.randn(10)*2\n",
    "X = np.vstack((x,y))\n",
    "print(X)"
   ]
  },
  {
   "cell_type": "code",
   "execution_count": 3,
   "metadata": {},
   "outputs": [
    {
     "data": {
      "image/png": "[encoded data removed]",
      "text/plain": [
       "<Figure size 432x288 with 1 Axes>"
      ]
     },
     "metadata": {},
     "output_type": "display_data"
    }
   ],
   "source": [
    "plt.scatter(X[0], X[1])\n",
    "plt.show()"
   ]
  },
  {
   "cell_type": "code",
   "execution_count": 13,
   "metadata": {},
   "outputs": [
    {
     "name": "stdout",
     "output_type": "stream",
     "text": [
      "(array([-4.5, -3.5, -2.5, -1.5, -0.5,  0.5,  1.5,  2.5,  3.5,  4.5]), array([-9.95384196, -6.56399838, -3.26295884, -1.89072465, -2.72677831,\n",
      "        0.20803659,  2.73309816,  4.30484261,  8.19509471,  8.95723008]))\n",
      "Mean vector:  (5.5, 11.188618508992977)\n"
     ]
    }
   ],
   "source": [
    "Xcentered = (X[0] - x.mean(), X[1] - y.mean())\n",
    "m = (x.mean(), y.mean())\n",
    "print(Xcentered)\n",
    "print(\"Mean vector: \", m)"
   ]
  },
  {
   "cell_type": "code",
   "execution_count": 5,
   "metadata": {},
   "outputs": [
    {
     "data": {
      "image/png": "[encoded data removed]",
      "text/plain": [
       "<Figure size 432x288 with 1 Axes>"
      ]
     },
     "metadata": {},
     "output_type": "display_data"
    }
   ],
   "source": [
    "plt.scatter(Xcentered[0], Xcentered[1])\n",
    "plt.show()"
   ]
  },
  {
   "cell_type": "code",
   "execution_count": 6,
   "metadata": {},
   "outputs": [
    {
     "name": "stdout",
     "output_type": "stream",
     "text": [
      "[[ 9.16666667 17.14953599]\n",
      " [17.14953599 34.03804226]] \n",
      "\n",
      "Variance of X:  9.166666666666666\n",
      "Variance of Y:  34.038042256182806\n",
      "Covariance X and Y:  17.149535985147907\n"
     ]
    }
   ],
   "source": [
    "covmat = np.cov(Xcentered)\n",
    "print(covmat, \"\\n\")\n",
    "print(\"Variance of X: \", np.cov(Xcentered)[0,0])\n",
    "print(\"Variance of Y: \", np.cov(Xcentered)[1,1])\n",
    "print(\"Covariance X and Y: \", np.cov(Xcentered)[0,1])"
   ]
  },
  {
   "cell_type": "code",
   "execution_count": 7,
   "metadata": {},
   "outputs": [
    {
     "name": "stdout",
     "output_type": "stream",
     "text": [
      "[-9.84276675 -6.50998353 -6.63506589 -2.33362142 -2.2876719   2.33038908\n",
      "  2.85203856  7.12238061  5.44896475  9.8553365 ]\n"
     ]
    }
   ],
   "source": [
    "_, vecs = np.linalg.eig(covmat)\n",
    "v = -vecs[:,1]\n",
    "Xnew = np.dot(v, Xcentered)\n",
    "print(Xnew)"
   ]
  },
  {
   "cell_type": "code",
   "execution_count": 14,
   "metadata": {},
   "outputs": [
    {
     "name": "stdout",
     "output_type": "stream",
     "text": [
      "Restored:  [ 6.55893308 13.26452169]\n",
      "Original:  [ 6.        11.3966551]\n"
     ]
    }
   ],
   "source": [
    "n = 5  #номер элемента случайной величины\n",
    "Xrestored = np.dot(Xnew[n],v) + m\n",
    "print('Restored: ', Xrestored)\n",
    "print('Original: ', X[:,n])"
   ]
  },
  {
   "cell_type": "code",
   "execution_count": 15,
   "metadata": {},
   "outputs": [],
   "source": [
    "from sklearn.decomposition import PCA\n",
    "pca = PCA(n_components = 1)\n",
    "XPCAreduced = pca.fit_transform(np.transpose(X))"
   ]
  },
  {
   "cell_type": "code",
   "execution_count": 10,
   "metadata": {},
   "outputs": [
    {
     "name": "stdout",
     "output_type": "stream",
     "text": [
      "-9.842766749718393 - [-9.84276675]\n",
      "-6.509983529151356 - [-6.50998353]\n",
      "-6.635065891626853 - [-6.63506589]\n",
      "-2.333621423495896 - [-2.33362142]\n",
      "-2.2876719009837516 - [-2.2876719]\n",
      "2.330389081832168 - [2.33038908]\n",
      "2.852038559938563 - [2.85203856]\n",
      "7.122380610421103 - [7.12238061]\n",
      "5.44896474594173 - [5.44896475]\n",
      "9.855336496842682 - [9.8553365]\n"
     ]
    }
   ],
   "source": [
    "for xn, x_pca in zip(Xnew, XPCAreduced):\n",
    "    print(xn, '-', x_pca)"
   ]
  }
 ],
 "metadata": {
  "kernelspec": {
   "display_name": "Python 3",
   "language": "python",
   "name": "python3"
  },
  "language_info": {
   "codemirror_mode": {
    "name": "ipython",
    "version": 3
   },
   "file_extension": ".py",
   "mimetype": "text/x-python",
   "name": "python",
   "nbconvert_exporter": "python",
   "pygments_lexer": "ipython3",
   "version": "3.6.4"
  }
 },
 "nbformat": 4,
 "nbformat_minor": 2
}
