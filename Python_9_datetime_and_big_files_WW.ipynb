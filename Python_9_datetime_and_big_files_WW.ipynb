{
 "cells": [
  {
   "cell_type": "markdown",
   "metadata": {},
   "source": [
    "# Чтение данных из файлов"
   ]
  },
  {
   "cell_type": "code",
   "execution_count": 1,
   "metadata": {},
   "outputs": [],
   "source": [
    "# открываем файл\n",
    "# 'r' - прочитать файл\n",
    "# 'w' - очистить файл и начать запись\n",
    "# 'a' - добавить запись в конец файла\n",
    "f = open('transactions.tsv', 'r')"
   ]
  },
  {
   "cell_type": "code",
   "execution_count": 4,
   "metadata": {},
   "outputs": [
    {
     "name": "stdout",
     "output_type": "stream",
     "text": [
      "2019-01-01\t67\n",
      "\n"
     ]
    }
   ],
   "source": [
    "# чтение файла построчно (независимо от размера)\n",
    "print(f.readline())"
   ]
  },
  {
   "cell_type": "code",
   "execution_count": 5,
   "metadata": {},
   "outputs": [],
   "source": [
    "# закрываем файл\n",
    "f.close()"
   ]
  },
  {
   "cell_type": "code",
   "execution_count": 6,
   "metadata": {},
   "outputs": [
    {
     "name": "stdout",
     "output_type": "stream",
     "text": [
      "2019-01-01\t78\n",
      "\n"
     ]
    }
   ],
   "source": [
    "# аналог\n",
    "with open('transactions.tsv', 'r') as f:\n",
    "    print(f.readline())"
   ]
  },
  {
   "cell_type": "markdown",
   "metadata": {},
   "source": [
    "### Упражнение\n",
    "Дан лог покупок transactions.tsv.\n",
    "\n",
    "Первый столбец - дата покупки, второй - сумма. Разделитель табуляция.\n",
    "\n",
    "Необходимо посчитать:\n",
    "\n",
    "1. Сумму покупок за все дни\n",
    "\n",
    "2. Среднюю стоимость одной покупки\n",
    "\n",
    "3. Посложнее - в какой день была максимальная выручка?"
   ]
  },
  {
   "cell_type": "code",
   "execution_count": 7,
   "metadata": {
    "scrolled": true
   },
   "outputs": [
    {
     "name": "stdout",
     "output_type": "stream",
     "text": [
      "2019-01-01 78\n",
      "2019-01-01 7\n",
      "2019-01-01 67\n",
      "2019-01-01 45\n",
      "2019-01-01 26\n",
      "2019-01-01 3\n",
      "2019-01-01 18\n",
      "2019-01-01 84\n",
      "2019-01-01 46\n",
      "2019-01-02 15\n",
      "2019-01-02 67\n",
      "2019-01-02 12\n",
      "2019-01-02 18\n",
      "2019-01-02 92\n",
      "2019-01-02 38\n",
      "2019-01-02 51\n",
      "2019-01-02 52\n",
      "2019-01-02 12\n",
      "2019-01-03 59\n",
      "2019-01-03 53\n",
      "2019-01-03 52\n",
      "2019-01-03 12\n",
      "2019-01-03 56\n",
      "2019-01-03 38\n",
      "2019-01-03 81\n",
      "2019-01-03 6\n",
      "2019-01-03 35\n",
      "2019-01-04 67\n",
      "2019-01-04 63\n",
      "2019-01-04 92\n",
      "2019-01-04 34\n",
      "2019-01-04 14\n",
      "2019-01-04 85\n",
      "2019-01-04 51\n",
      "2019-01-04 81\n",
      "2019-01-04 50\n",
      "2019-01-05 11\n",
      "2019-01-05 97\n",
      "2019-01-05 84\n",
      "2019-01-05 69\n",
      "2019-01-05 93\n",
      "2019-01-05 31\n",
      "2019-01-05 4\n",
      "2019-01-05 8\n",
      "2019-01-05 43\n",
      "2019-01-06 93\n",
      "2019-01-06 94\n",
      "2019-01-06 93\n",
      "2019-01-06 58\n",
      "2019-01-06 55\n",
      "2019-01-06 96\n",
      "2019-01-06 13\n",
      "2019-01-06 3\n",
      "2019-01-06 72\n",
      "2019-01-07 37\n",
      "2019-01-07 78\n",
      "2019-01-07 27\n",
      "2019-01-07 11\n",
      "2019-01-07 85\n",
      "2019-01-07 16\n",
      "2019-01-07 13\n",
      "2019-01-07 10\n",
      "2019-01-07 34\n"
     ]
    }
   ],
   "source": [
    "total_sum = 0\n",
    "\n",
    "with open('transactions.tsv', 'r') as f:\n",
    "    for line in f:\n",
    "        date, amount = line.strip().split('\\t')\n",
    "        print(date, amount)"
   ]
  },
  {
   "cell_type": "code",
   "execution_count": 13,
   "metadata": {},
   "outputs": [
    {
     "name": "stdout",
     "output_type": "stream",
     "text": [
      "2988\n",
      "47.42857142857143\n"
     ]
    }
   ],
   "source": [
    "total_sum = 0\n",
    "total_count = 0\n",
    "with open('transactions.tsv', 'r') as f:\n",
    "    for line in f:\n",
    "        date, amount = line.strip().split('\\t')\n",
    "#         print(date, amount)\n",
    "        total_sum +=int(amount)\n",
    "        total_count += 1\n",
    "print(total_sum)\n",
    "print(total_sum/total_count)"
   ]
  },
  {
   "cell_type": "code",
   "execution_count": 14,
   "metadata": {},
   "outputs": [
    {
     "name": "stdout",
     "output_type": "stream",
     "text": [
      "Общая сумма заказов: 2988.0\n",
      "Средняя сумма покупки: 47.43\n",
      "Максимальная сумма покупки: 97.0\n"
     ]
    }
   ],
   "source": [
    "# Общая сумма заказов\n",
    "total_sum = 0\n",
    "# Счетчик строк\n",
    "m = 0\n",
    "# Максимальная сумма покупки\n",
    "maxim = -1\n",
    "with open('transactions.tsv', 'r') as f:\n",
    "    for line in f:\n",
    "        date, amount = line.strip().split('\\t')\n",
    "        m += 1\n",
    "\n",
    "        amount = float(amount)\n",
    "        total_sum += amount\n",
    "        \n",
    "        if amount > maxim:\n",
    "            maxim = amount\n",
    "\n",
    "print(f'Общая сумма заказов: {total_sum}')\n",
    "print(f'Средняя сумма покупки: {round(total_sum / m,2)}')\n",
    "print(f'Максимальная сумма покупки: {maxim}')"
   ]
  },
  {
   "cell_type": "code",
   "execution_count": 16,
   "metadata": {},
   "outputs": [
    {
     "data": {
      "text/plain": [
       "100"
      ]
     },
     "execution_count": 16,
     "metadata": {},
     "output_type": "execute_result"
    }
   ],
   "source": [
    "revenue ={}\n",
    "revenue['2019-01-01'] = 100\n",
    "revenue.setdefault('2019-01-01',0)"
   ]
  },
  {
   "cell_type": "code",
   "execution_count": null,
   "metadata": {},
   "outputs": [],
   "source": [
    "total_sum = 0\n",
    "revenue ={}\n",
    "with open('transactions.tsv', 'r') as f:\n",
    "    for line in f:\n",
    "        date, amount = line.strip().split('\\t')\n",
    "        print(date, amount)"
   ]
  },
  {
   "cell_type": "markdown",
   "metadata": {},
   "source": [
    "# Даты"
   ]
  },
  {
   "cell_type": "code",
   "execution_count": 18,
   "metadata": {},
   "outputs": [],
   "source": [
    "import datetime # импорт библиотеки"
   ]
  },
  {
   "cell_type": "code",
   "execution_count": 27,
   "metadata": {},
   "outputs": [],
   "source": [
    "from datetime import datetime # импорт класса из библиотеки "
   ]
  },
  {
   "cell_type": "code",
   "execution_count": 28,
   "metadata": {},
   "outputs": [],
   "source": [
    "date_string = '09.05.2018  09:00'"
   ]
  },
  {
   "cell_type": "code",
   "execution_count": 29,
   "metadata": {},
   "outputs": [
    {
     "data": {
      "text/plain": [
       "str"
      ]
     },
     "execution_count": 29,
     "metadata": {},
     "output_type": "execute_result"
    }
   ],
   "source": [
    "# сейчас date_string это просто строка\n",
    "type(date_string)"
   ]
  },
  {
   "cell_type": "code",
   "execution_count": 30,
   "metadata": {},
   "outputs": [
    {
     "data": {
      "text/plain": [
       "'09.05.2018'"
      ]
     },
     "execution_count": 30,
     "metadata": {},
     "output_type": "execute_result"
    }
   ],
   "source": [
    "date_string[:10]"
   ]
  },
  {
   "cell_type": "code",
   "execution_count": 31,
   "metadata": {},
   "outputs": [
    {
     "data": {
      "text/plain": [
       "datetime.datetime(2018, 5, 9, 9, 0)"
      ]
     },
     "execution_count": 31,
     "metadata": {},
     "output_type": "execute_result"
    }
   ],
   "source": [
    "datetime.strptime('09.05.2018 09:00', '%d.%m.%Y %I:%M')"
   ]
  },
  {
   "cell_type": "code",
   "execution_count": 34,
   "metadata": {},
   "outputs": [
    {
     "data": {
      "text/plain": [
       "datetime.datetime(2018, 5, 9, 9, 0)"
      ]
     },
     "execution_count": 34,
     "metadata": {},
     "output_type": "execute_result"
    }
   ],
   "source": [
    "datetime.strptime('09.05.2018Z09:00', '%d.%m.%YZ%H:%M') # в формате был Z, следуюет добавить в "
   ]
  },
  {
   "cell_type": "code",
   "execution_count": 35,
   "metadata": {},
   "outputs": [
    {
     "data": {
      "text/plain": [
       "datetime.datetime(2018, 5, 9, 9, 0)"
      ]
     },
     "execution_count": 35,
     "metadata": {},
     "output_type": "execute_result"
    }
   ],
   "source": [
    "datetime.strptime('09.05.2018Z09:00:00', '%d.%m.%YZ%H:%M:%S') # в формате был Z, следуюет добавить в "
   ]
  },
  {
   "cell_type": "code",
   "execution_count": 36,
   "metadata": {},
   "outputs": [
    {
     "data": {
      "text/plain": [
       "datetime.datetime(2018, 5, 9, 9, 0)"
      ]
     },
     "execution_count": 36,
     "metadata": {},
     "output_type": "execute_result"
    }
   ],
   "source": [
    "# https://docs.python.org/3/library/datetime.html\n",
    "\n",
    "date_datetime = datetime.strptime( date_string, '%d.%m.%Y %H:%M' )\n",
    "date_datetime"
   ]
  },
  {
   "cell_type": "code",
   "execution_count": 37,
   "metadata": {},
   "outputs": [
    {
     "data": {
      "text/plain": [
       "datetime.datetime"
      ]
     },
     "execution_count": 37,
     "metadata": {},
     "output_type": "execute_result"
    }
   ],
   "source": [
    "# теперь можем работать с датами\n",
    "type(date_datetime)"
   ]
  },
  {
   "cell_type": "code",
   "execution_count": 38,
   "metadata": {},
   "outputs": [
    {
     "data": {
      "text/plain": [
       "(2018, 9)"
      ]
     },
     "execution_count": 38,
     "metadata": {},
     "output_type": "execute_result"
    }
   ],
   "source": [
    "date_datetime.year, date_datetime.hour"
   ]
  },
  {
   "cell_type": "markdown",
   "metadata": {},
   "source": [
    "### Упражнение\n",
    "С помощью метода datetime.strptime переведите строку 'May 25 2017 5:00AM' в формат datetime."
   ]
  },
  {
   "cell_type": "code",
   "execution_count": 39,
   "metadata": {},
   "outputs": [],
   "source": [
    "date_string_2 = 'May 25 2017 5:00AM'"
   ]
  },
  {
   "cell_type": "code",
   "execution_count": 42,
   "metadata": {},
   "outputs": [
    {
     "data": {
      "text/plain": [
       "datetime.datetime(2017, 5, 25, 5, 0)"
      ]
     },
     "execution_count": 42,
     "metadata": {},
     "output_type": "execute_result"
    }
   ],
   "source": [
    "date_datetime_2 = datetime.strptime( date_string_2, '%b %d %Y %I:%M%p' )\n",
    "date_datetime_2"
   ]
  },
  {
   "cell_type": "code",
   "execution_count": null,
   "metadata": {},
   "outputs": [],
   "source": []
  },
  {
   "cell_type": "markdown",
   "metadata": {},
   "source": [
    "### Прибавление интервала к датам"
   ]
  },
  {
   "cell_type": "code",
   "execution_count": 43,
   "metadata": {},
   "outputs": [],
   "source": [
    "from datetime import timedelta"
   ]
  },
  {
   "cell_type": "code",
   "execution_count": 44,
   "metadata": {},
   "outputs": [],
   "source": [
    "start_date = '2018-01-01'\n",
    "end_date = '2018-01-07'"
   ]
  },
  {
   "cell_type": "code",
   "execution_count": 45,
   "metadata": {},
   "outputs": [
    {
     "data": {
      "text/plain": [
       "str"
      ]
     },
     "execution_count": 45,
     "metadata": {},
     "output_type": "execute_result"
    }
   ],
   "source": [
    "type(start_date)"
   ]
  },
  {
   "cell_type": "code",
   "execution_count": 46,
   "metadata": {},
   "outputs": [
    {
     "data": {
      "text/plain": [
       "datetime.datetime(2018, 1, 1, 0, 0)"
      ]
     },
     "execution_count": 46,
     "metadata": {},
     "output_type": "execute_result"
    }
   ],
   "source": [
    "start_date_datetime = datetime.strptime(start_date, '%Y-%m-%d')\n",
    "start_date_datetime"
   ]
  },
  {
   "cell_type": "code",
   "execution_count": 47,
   "metadata": {},
   "outputs": [
    {
     "data": {
      "text/plain": [
       "datetime.datetime(2018, 1, 2, 0, 0)"
      ]
     },
     "execution_count": 47,
     "metadata": {},
     "output_type": "execute_result"
    }
   ],
   "source": [
    "start_date_datetime + timedelta(days=1)"
   ]
  },
  {
   "cell_type": "code",
   "execution_count": 48,
   "metadata": {},
   "outputs": [
    {
     "data": {
      "text/plain": [
       "datetime.datetime(2017, 12, 31, 0, 0)"
      ]
     },
     "execution_count": 48,
     "metadata": {},
     "output_type": "execute_result"
    }
   ],
   "source": [
    "start_date_datetime + timedelta(days=-1)"
   ]
  },
  {
   "cell_type": "code",
   "execution_count": 49,
   "metadata": {},
   "outputs": [
    {
     "data": {
      "text/plain": [
       "datetime.datetime(2017, 12, 24, 23, 59)"
      ]
     },
     "execution_count": 49,
     "metadata": {},
     "output_type": "execute_result"
    }
   ],
   "source": [
    "start_date_datetime + timedelta(days=-7, minutes=-1)"
   ]
  },
  {
   "cell_type": "code",
   "execution_count": 50,
   "metadata": {},
   "outputs": [
    {
     "data": {
      "text/plain": [
       "0"
      ]
     },
     "execution_count": 50,
     "metadata": {},
     "output_type": "execute_result"
    }
   ],
   "source": [
    "start_date_datetime.weekday()"
   ]
  },
  {
   "cell_type": "markdown",
   "metadata": {},
   "source": [
    "### Упражнение\n",
    "Дана дата в формате '2018-09-01T09:30:00'. Прибавьте к ней 12 часов 15минут и 3 секунды."
   ]
  },
  {
   "cell_type": "code",
   "execution_count": 51,
   "metadata": {},
   "outputs": [],
   "source": [
    "date_str = '2018-09-01T09:30:00'"
   ]
  },
  {
   "cell_type": "code",
   "execution_count": 53,
   "metadata": {},
   "outputs": [],
   "source": [
    "date_str = datetime.strptime( date_str, '%Y-%m-%dT%H:%M:%S')"
   ]
  },
  {
   "cell_type": "code",
   "execution_count": 55,
   "metadata": {},
   "outputs": [
    {
     "data": {
      "text/plain": [
       "datetime.datetime(2018, 9, 1, 21, 45, 3)"
      ]
     },
     "execution_count": 55,
     "metadata": {},
     "output_type": "execute_result"
    }
   ],
   "source": [
    "date_str + timedelta(hours=12, minutes=15, seconds=3)"
   ]
  },
  {
   "cell_type": "code",
   "execution_count": 56,
   "metadata": {},
   "outputs": [],
   "source": [
    "?timedelta\n",
    "# Тут что-то нес про кварталы....погуглить в pandas"
   ]
  },
  {
   "cell_type": "markdown",
   "metadata": {},
   "source": [
    "### Перевод обратно в строку"
   ]
  },
  {
   "cell_type": "code",
   "execution_count": 57,
   "metadata": {},
   "outputs": [
    {
     "data": {
      "text/plain": [
       "datetime.datetime(2018, 9, 1, 0, 0)"
      ]
     },
     "execution_count": 57,
     "metadata": {},
     "output_type": "execute_result"
    }
   ],
   "source": [
    "date = datetime(2018, 9, 1)\n",
    "date"
   ]
  },
  {
   "cell_type": "code",
   "execution_count": 58,
   "metadata": {},
   "outputs": [
    {
     "data": {
      "text/plain": [
       "'2018-09-01'"
      ]
     },
     "execution_count": 58,
     "metadata": {},
     "output_type": "execute_result"
    }
   ],
   "source": [
    "date.strftime('%Y-%m-%d')"
   ]
  },
  {
   "cell_type": "code",
   "execution_count": 59,
   "metadata": {
    "scrolled": true
   },
   "outputs": [
    {
     "data": {
      "text/plain": [
       "'September 01 2018 12:00AM'"
      ]
     },
     "execution_count": 59,
     "metadata": {},
     "output_type": "execute_result"
    }
   ],
   "source": [
    "date.strftime('%B %d %Y %I:%M%p')"
   ]
  },
  {
   "cell_type": "code",
   "execution_count": 60,
   "metadata": {},
   "outputs": [
    {
     "data": {
      "text/plain": [
       "'2018-09-01'"
      ]
     },
     "execution_count": 60,
     "metadata": {},
     "output_type": "execute_result"
    }
   ],
   "source": [
    "# внезапно\n",
    "\n",
    "date.strftime('%Y-%m-01')"
   ]
  },
  {
   "cell_type": "code",
   "execution_count": 61,
   "metadata": {},
   "outputs": [
    {
     "data": {
      "text/plain": [
       "('2018-01-01', '2018-01-07')"
      ]
     },
     "execution_count": 61,
     "metadata": {},
     "output_type": "execute_result"
    }
   ],
   "source": [
    "start_date, end_date"
   ]
  },
  {
   "cell_type": "code",
   "execution_count": 62,
   "metadata": {},
   "outputs": [
    {
     "name": "stdout",
     "output_type": "stream",
     "text": [
      "2018-01-01 00:00:00 2018-01-07 00:00:00\n"
     ]
    }
   ],
   "source": [
    "start_date_dt = datetime.strptime(start_date, '%Y-%m-%d')\n",
    "end_date_dt = datetime.strptime(end_date, '%Y-%m-%d')\n",
    "\n",
    "print(start_date_dt, end_date_dt)"
   ]
  },
  {
   "cell_type": "code",
   "execution_count": 63,
   "metadata": {},
   "outputs": [
    {
     "data": {
      "text/plain": [
       "datetime.datetime(2018, 1, 1, 0, 0)"
      ]
     },
     "execution_count": 63,
     "metadata": {},
     "output_type": "execute_result"
    }
   ],
   "source": [
    "start_date_dt"
   ]
  },
  {
   "cell_type": "code",
   "execution_count": 64,
   "metadata": {},
   "outputs": [
    {
     "name": "stdout",
     "output_type": "stream",
     "text": [
      "1\n",
      "2\n",
      "3\n",
      "4\n",
      "5\n",
      "6\n",
      "7\n",
      "8\n",
      "9\n",
      "10\n"
     ]
    }
   ],
   "source": [
    "i = 0\n",
    "\n",
    "while i < 10:\n",
    "    # ...\n",
    "    i += 1\n",
    "    print(i)"
   ]
  },
  {
   "cell_type": "code",
   "execution_count": 65,
   "metadata": {
    "scrolled": true
   },
   "outputs": [
    {
     "name": "stdout",
     "output_type": "stream",
     "text": [
      "2018-01-01\n",
      "2018-01-02\n",
      "2018-01-03\n",
      "2018-01-04\n",
      "2018-01-05\n",
      "2018-01-06\n",
      "2018-01-07\n"
     ]
    }
   ],
   "source": [
    "\n",
    "\n",
    "\n",
    "\n",
    "current_dt = start_date_dt\n",
    "\n",
    "while current_dt <= end_date_dt:\n",
    "    print(current_dt.strftime('%Y-%m-%d'))\n",
    "    \n",
    "    current_dt += timedelta(days=1)"
   ]
  },
  {
   "cell_type": "markdown",
   "metadata": {},
   "source": [
    "### Упражнение\n",
    "Напишите алгоритм, который \"пробегает\" период 1 до 7 сентября по часам. Формат вывода '06.01.2018 23:00:00'."
   ]
  },
  {
   "cell_type": "code",
   "execution_count": null,
   "metadata": {},
   "outputs": [],
   "source": [
    "current_dt = start_date_dt\n",
    "\n",
    "while current_dt <= end_date_dt:\n",
    "    print(current_dt.strftime('%Y-%m-%d'))\n",
    "    \n",
    "    current_dt += timedelta(days=1)"
   ]
  },
  {
   "cell_type": "code",
   "execution_count": 66,
   "metadata": {},
   "outputs": [],
   "source": [
    "date_start = datetime(2018, 9, 1)\n",
    "date_end = datetime(2018, 9, 7)\n"
   ]
  },
  {
   "cell_type": "code",
   "execution_count": 69,
   "metadata": {},
   "outputs": [
    {
     "name": "stdout",
     "output_type": "stream",
     "text": [
      "2018-09-01 00:09:00\n",
      "2018-09-01 01:09:00\n",
      "2018-09-01 02:09:00\n",
      "2018-09-01 03:09:00\n",
      "2018-09-01 04:09:00\n",
      "2018-09-01 05:09:00\n",
      "2018-09-01 06:09:00\n",
      "2018-09-01 07:09:00\n",
      "2018-09-01 08:09:00\n",
      "2018-09-01 09:09:00\n",
      "2018-09-01 10:09:00\n",
      "2018-09-01 11:09:00\n",
      "2018-09-01 12:09:00\n",
      "2018-09-01 13:09:00\n",
      "2018-09-01 14:09:00\n",
      "2018-09-01 15:09:00\n",
      "2018-09-01 16:09:00\n",
      "2018-09-01 17:09:00\n",
      "2018-09-01 18:09:00\n",
      "2018-09-01 19:09:00\n",
      "2018-09-01 20:09:00\n",
      "2018-09-01 21:09:00\n",
      "2018-09-01 22:09:00\n",
      "2018-09-01 23:09:00\n",
      "2018-09-02 00:09:00\n",
      "2018-09-02 01:09:00\n",
      "2018-09-02 02:09:00\n",
      "2018-09-02 03:09:00\n",
      "2018-09-02 04:09:00\n",
      "2018-09-02 05:09:00\n",
      "2018-09-02 06:09:00\n",
      "2018-09-02 07:09:00\n",
      "2018-09-02 08:09:00\n",
      "2018-09-02 09:09:00\n",
      "2018-09-02 10:09:00\n",
      "2018-09-02 11:09:00\n",
      "2018-09-02 12:09:00\n",
      "2018-09-02 13:09:00\n",
      "2018-09-02 14:09:00\n",
      "2018-09-02 15:09:00\n",
      "2018-09-02 16:09:00\n",
      "2018-09-02 17:09:00\n",
      "2018-09-02 18:09:00\n",
      "2018-09-02 19:09:00\n",
      "2018-09-02 20:09:00\n",
      "2018-09-02 21:09:00\n",
      "2018-09-02 22:09:00\n",
      "2018-09-02 23:09:00\n",
      "2018-09-03 00:09:00\n",
      "2018-09-03 01:09:00\n",
      "2018-09-03 02:09:00\n",
      "2018-09-03 03:09:00\n",
      "2018-09-03 04:09:00\n",
      "2018-09-03 05:09:00\n",
      "2018-09-03 06:09:00\n",
      "2018-09-03 07:09:00\n",
      "2018-09-03 08:09:00\n",
      "2018-09-03 09:09:00\n",
      "2018-09-03 10:09:00\n",
      "2018-09-03 11:09:00\n",
      "2018-09-03 12:09:00\n",
      "2018-09-03 13:09:00\n",
      "2018-09-03 14:09:00\n",
      "2018-09-03 15:09:00\n",
      "2018-09-03 16:09:00\n",
      "2018-09-03 17:09:00\n",
      "2018-09-03 18:09:00\n",
      "2018-09-03 19:09:00\n",
      "2018-09-03 20:09:00\n",
      "2018-09-03 21:09:00\n",
      "2018-09-03 22:09:00\n",
      "2018-09-03 23:09:00\n",
      "2018-09-04 00:09:00\n",
      "2018-09-04 01:09:00\n",
      "2018-09-04 02:09:00\n",
      "2018-09-04 03:09:00\n",
      "2018-09-04 04:09:00\n",
      "2018-09-04 05:09:00\n",
      "2018-09-04 06:09:00\n",
      "2018-09-04 07:09:00\n",
      "2018-09-04 08:09:00\n",
      "2018-09-04 09:09:00\n",
      "2018-09-04 10:09:00\n",
      "2018-09-04 11:09:00\n",
      "2018-09-04 12:09:00\n",
      "2018-09-04 13:09:00\n",
      "2018-09-04 14:09:00\n",
      "2018-09-04 15:09:00\n",
      "2018-09-04 16:09:00\n",
      "2018-09-04 17:09:00\n",
      "2018-09-04 18:09:00\n",
      "2018-09-04 19:09:00\n",
      "2018-09-04 20:09:00\n",
      "2018-09-04 21:09:00\n",
      "2018-09-04 22:09:00\n",
      "2018-09-04 23:09:00\n",
      "2018-09-05 00:09:00\n",
      "2018-09-05 01:09:00\n",
      "2018-09-05 02:09:00\n",
      "2018-09-05 03:09:00\n",
      "2018-09-05 04:09:00\n",
      "2018-09-05 05:09:00\n",
      "2018-09-05 06:09:00\n",
      "2018-09-05 07:09:00\n",
      "2018-09-05 08:09:00\n",
      "2018-09-05 09:09:00\n",
      "2018-09-05 10:09:00\n",
      "2018-09-05 11:09:00\n",
      "2018-09-05 12:09:00\n",
      "2018-09-05 13:09:00\n",
      "2018-09-05 14:09:00\n",
      "2018-09-05 15:09:00\n",
      "2018-09-05 16:09:00\n",
      "2018-09-05 17:09:00\n",
      "2018-09-05 18:09:00\n",
      "2018-09-05 19:09:00\n",
      "2018-09-05 20:09:00\n",
      "2018-09-05 21:09:00\n",
      "2018-09-05 22:09:00\n",
      "2018-09-05 23:09:00\n",
      "2018-09-06 00:09:00\n",
      "2018-09-06 01:09:00\n",
      "2018-09-06 02:09:00\n",
      "2018-09-06 03:09:00\n",
      "2018-09-06 04:09:00\n",
      "2018-09-06 05:09:00\n",
      "2018-09-06 06:09:00\n",
      "2018-09-06 07:09:00\n",
      "2018-09-06 08:09:00\n",
      "2018-09-06 09:09:00\n",
      "2018-09-06 10:09:00\n",
      "2018-09-06 11:09:00\n",
      "2018-09-06 12:09:00\n",
      "2018-09-06 13:09:00\n",
      "2018-09-06 14:09:00\n",
      "2018-09-06 15:09:00\n",
      "2018-09-06 16:09:00\n",
      "2018-09-06 17:09:00\n",
      "2018-09-06 18:09:00\n",
      "2018-09-06 19:09:00\n",
      "2018-09-06 20:09:00\n",
      "2018-09-06 21:09:00\n",
      "2018-09-06 22:09:00\n",
      "2018-09-06 23:09:00\n",
      "2018-09-07 00:09:00\n"
     ]
    }
   ],
   "source": [
    "date_start = datetime(2018, 9, 1)\n",
    "date_end = datetime(2018, 9, 7)\n",
    "current_dt = date_start\n",
    "while current_dt <= date_end:\n",
    "    print(current_dt.strftime('%Y-%m-%d %H:%m:%S'))\n",
    "    \n",
    "    current_dt += timedelta(hours=1)\n",
    "    "
   ]
  },
  {
   "cell_type": "code",
   "execution_count": 71,
   "metadata": {},
   "outputs": [
    {
     "name": "stdout",
     "output_type": "stream",
     "text": [
      "01.09.2019 00:00:00\n",
      "01.09.2019 01:00:00\n",
      "01.09.2019 02:00:00\n",
      "01.09.2019 03:00:00\n",
      "01.09.2019 04:00:00\n",
      "01.09.2019 05:00:00\n",
      "01.09.2019 06:00:00\n",
      "01.09.2019 07:00:00\n",
      "01.09.2019 08:00:00\n",
      "01.09.2019 09:00:00\n",
      "01.09.2019 10:00:00\n",
      "01.09.2019 11:00:00\n",
      "01.09.2019 12:00:00\n",
      "01.09.2019 13:00:00\n",
      "01.09.2019 14:00:00\n",
      "01.09.2019 15:00:00\n",
      "01.09.2019 16:00:00\n",
      "01.09.2019 17:00:00\n",
      "01.09.2019 18:00:00\n",
      "01.09.2019 19:00:00\n",
      "01.09.2019 20:00:00\n",
      "01.09.2019 21:00:00\n",
      "01.09.2019 22:00:00\n",
      "01.09.2019 23:00:00\n",
      "02.09.2019 00:00:00\n",
      "02.09.2019 01:00:00\n",
      "02.09.2019 02:00:00\n",
      "02.09.2019 03:00:00\n",
      "02.09.2019 04:00:00\n",
      "02.09.2019 05:00:00\n",
      "02.09.2019 06:00:00\n",
      "02.09.2019 07:00:00\n",
      "02.09.2019 08:00:00\n",
      "02.09.2019 09:00:00\n",
      "02.09.2019 10:00:00\n",
      "02.09.2019 11:00:00\n",
      "02.09.2019 12:00:00\n",
      "02.09.2019 13:00:00\n",
      "02.09.2019 14:00:00\n",
      "02.09.2019 15:00:00\n",
      "02.09.2019 16:00:00\n",
      "02.09.2019 17:00:00\n",
      "02.09.2019 18:00:00\n",
      "02.09.2019 19:00:00\n",
      "02.09.2019 20:00:00\n",
      "02.09.2019 21:00:00\n",
      "02.09.2019 22:00:00\n",
      "02.09.2019 23:00:00\n",
      "03.09.2019 00:00:00\n",
      "03.09.2019 01:00:00\n",
      "03.09.2019 02:00:00\n",
      "03.09.2019 03:00:00\n",
      "03.09.2019 04:00:00\n",
      "03.09.2019 05:00:00\n",
      "03.09.2019 06:00:00\n",
      "03.09.2019 07:00:00\n",
      "03.09.2019 08:00:00\n",
      "03.09.2019 09:00:00\n",
      "03.09.2019 10:00:00\n",
      "03.09.2019 11:00:00\n",
      "03.09.2019 12:00:00\n",
      "03.09.2019 13:00:00\n",
      "03.09.2019 14:00:00\n",
      "03.09.2019 15:00:00\n",
      "03.09.2019 16:00:00\n",
      "03.09.2019 17:00:00\n",
      "03.09.2019 18:00:00\n",
      "03.09.2019 19:00:00\n",
      "03.09.2019 20:00:00\n",
      "03.09.2019 21:00:00\n",
      "03.09.2019 22:00:00\n",
      "03.09.2019 23:00:00\n",
      "04.09.2019 00:00:00\n",
      "04.09.2019 01:00:00\n",
      "04.09.2019 02:00:00\n",
      "04.09.2019 03:00:00\n",
      "04.09.2019 04:00:00\n",
      "04.09.2019 05:00:00\n",
      "04.09.2019 06:00:00\n",
      "04.09.2019 07:00:00\n",
      "04.09.2019 08:00:00\n",
      "04.09.2019 09:00:00\n",
      "04.09.2019 10:00:00\n",
      "04.09.2019 11:00:00\n",
      "04.09.2019 12:00:00\n",
      "04.09.2019 13:00:00\n",
      "04.09.2019 14:00:00\n",
      "04.09.2019 15:00:00\n",
      "04.09.2019 16:00:00\n",
      "04.09.2019 17:00:00\n",
      "04.09.2019 18:00:00\n",
      "04.09.2019 19:00:00\n",
      "04.09.2019 20:00:00\n",
      "04.09.2019 21:00:00\n",
      "04.09.2019 22:00:00\n",
      "04.09.2019 23:00:00\n",
      "05.09.2019 00:00:00\n",
      "05.09.2019 01:00:00\n",
      "05.09.2019 02:00:00\n",
      "05.09.2019 03:00:00\n",
      "05.09.2019 04:00:00\n",
      "05.09.2019 05:00:00\n",
      "05.09.2019 06:00:00\n",
      "05.09.2019 07:00:00\n",
      "05.09.2019 08:00:00\n",
      "05.09.2019 09:00:00\n",
      "05.09.2019 10:00:00\n",
      "05.09.2019 11:00:00\n",
      "05.09.2019 12:00:00\n",
      "05.09.2019 13:00:00\n",
      "05.09.2019 14:00:00\n",
      "05.09.2019 15:00:00\n",
      "05.09.2019 16:00:00\n",
      "05.09.2019 17:00:00\n",
      "05.09.2019 18:00:00\n",
      "05.09.2019 19:00:00\n",
      "05.09.2019 20:00:00\n",
      "05.09.2019 21:00:00\n",
      "05.09.2019 22:00:00\n",
      "05.09.2019 23:00:00\n",
      "06.09.2019 00:00:00\n",
      "06.09.2019 01:00:00\n",
      "06.09.2019 02:00:00\n",
      "06.09.2019 03:00:00\n",
      "06.09.2019 04:00:00\n",
      "06.09.2019 05:00:00\n",
      "06.09.2019 06:00:00\n",
      "06.09.2019 07:00:00\n",
      "06.09.2019 08:00:00\n",
      "06.09.2019 09:00:00\n",
      "06.09.2019 10:00:00\n",
      "06.09.2019 11:00:00\n",
      "06.09.2019 12:00:00\n",
      "06.09.2019 13:00:00\n",
      "06.09.2019 14:00:00\n",
      "06.09.2019 15:00:00\n",
      "06.09.2019 16:00:00\n",
      "06.09.2019 17:00:00\n",
      "06.09.2019 18:00:00\n",
      "06.09.2019 19:00:00\n",
      "06.09.2019 20:00:00\n",
      "06.09.2019 21:00:00\n",
      "06.09.2019 22:00:00\n",
      "06.09.2019 23:00:00\n",
      "07.09.2019 00:00:00\n"
     ]
    }
   ],
   "source": [
    "start_date, end_date = '01.09.2019 00:00:00', '07.09.2019 00:00:00'\n",
    "start_date_dt = datetime.strptime(start_date, '%d.%m.%Y %H:%M:%S')\n",
    "end_date_dt = datetime.strptime(end_date, '%d.%m.%Y %H:%M:%S')\n",
    "current_dt = start_date_dt\n",
    "\n",
    "while current_dt <= end_date_dt:\n",
    "    print(current_dt.strftime('%d.%m.%Y %H:%M:%S'))\n",
    "    current_dt += timedelta(hours=1)"
   ]
  },
  {
   "cell_type": "markdown",
   "metadata": {},
   "source": [
    "### Нагрузка на систему по часам"
   ]
  },
  {
   "cell_type": "code",
   "execution_count": 72,
   "metadata": {
    "scrolled": true
   },
   "outputs": [
    {
     "name": "stdout",
     "output_type": "stream",
     "text": [
      "2018-04-30T21:37:41Z\n",
      "21\n"
     ]
    },
    {
     "data": {
      "text/plain": [
       "{}"
      ]
     },
     "execution_count": 72,
     "metadata": {},
     "output_type": "execute_result"
    }
   ],
   "source": [
    "stats = {}\n",
    "\n",
    "with open('logs.csv', 'r') as f:\n",
    "    for line in f:\n",
    "        line = line.strip()\n",
    "        print(line)\n",
    "        \n",
    "        dt = datetime.strptime(line, '%Y-%m-%dT%H:%M:%SZ')\n",
    "        \n",
    "        # номер часа\n",
    "        print(dt.hour)\n",
    "        break\n",
    "        \n",
    "        # вычисления нагрузки на систему...\n",
    "        \n",
    "# результат\n",
    "stats"
   ]
  },
  {
   "cell_type": "code",
   "execution_count": 75,
   "metadata": {},
   "outputs": [],
   "source": [
    "# пример решения\n",
    "stats = {}\n",
    "\n",
    "with open('logs.csv', 'r') as f:\n",
    "    for line in f:\n",
    "        line = line.strip()\n",
    "        dt = datetime.strptime(line, '%Y-%m-%dT%H:%M:%SZ')\n",
    "        stats.setdefault(dt.hour, 0)\n",
    "\n",
    "        stats[dt.hour] += 1"
   ]
  },
  {
   "cell_type": "code",
   "execution_count": 76,
   "metadata": {},
   "outputs": [
    {
     "data": {
      "text/plain": [
       "'21'"
      ]
     },
     "execution_count": 76,
     "metadata": {},
     "output_type": "execute_result"
    }
   ],
   "source": [
    "#       Альтернатива выбора часа, будет работать \n",
    "dt = '2018-04-30T21:37:41Z'\n",
    "dt[11:13]"
   ]
  },
  {
   "cell_type": "code",
   "execution_count": 74,
   "metadata": {},
   "outputs": [
    {
     "data": {
      "text/plain": [
       "{0: 22,\n",
       " 1: 10,\n",
       " 2: 8,\n",
       " 3: 7,\n",
       " 4: 7,\n",
       " 5: 10,\n",
       " 6: 19,\n",
       " 7: 22,\n",
       " 8: 42,\n",
       " 9: 33,\n",
       " 10: 77,\n",
       " 11: 52,\n",
       " 12: 64,\n",
       " 13: 56,\n",
       " 14: 57,\n",
       " 15: 68,\n",
       " 16: 56,\n",
       " 17: 56,\n",
       " 18: 72,\n",
       " 19: 63,\n",
       " 20: 67,\n",
       " 21: 59,\n",
       " 22: 37,\n",
       " 23: 36}"
      ]
     },
     "execution_count": 74,
     "metadata": {},
     "output_type": "execute_result"
    }
   ],
   "source": [
    "stats"
   ]
  },
  {
   "cell_type": "code",
   "execution_count": null,
   "metadata": {},
   "outputs": [],
   "source": []
  },
  {
   "cell_type": "code",
   "execution_count": null,
   "metadata": {},
   "outputs": [],
   "source": [
    "# а в процентном соотношении?\n"
   ]
  },
  {
   "cell_type": "code",
   "execution_count": null,
   "metadata": {},
   "outputs": [],
   "source": []
  },
  {
   "cell_type": "code",
   "execution_count": null,
   "metadata": {},
   "outputs": [],
   "source": []
  },
  {
   "cell_type": "markdown",
   "metadata": {},
   "source": [
    "###  Unixtime\n",
    "Количество секунд, прошедших с 1 января 1970 года по UTC"
   ]
  },
  {
   "cell_type": "code",
   "execution_count": 77,
   "metadata": {},
   "outputs": [],
   "source": [
    "import time\n",
    "from datetime import date\n",
    "from datetime import datetime"
   ]
  },
  {
   "cell_type": "code",
   "execution_count": 78,
   "metadata": {},
   "outputs": [
    {
     "data": {
      "text/plain": [
       "1552251600.0"
      ]
     },
     "execution_count": 78,
     "metadata": {},
     "output_type": "execute_result"
    }
   ],
   "source": [
    "d = date(2019, 3, 11)\n",
    "\n",
    "unixtime = time.mktime(d.timetuple())\n",
    "unixtime"
   ]
  },
  {
   "cell_type": "code",
   "execution_count": 79,
   "metadata": {},
   "outputs": [],
   "source": [
    "from datetime import datetime"
   ]
  },
  {
   "cell_type": "code",
   "execution_count": 80,
   "metadata": {},
   "outputs": [
    {
     "data": {
      "text/plain": [
       "datetime.datetime(2019, 3, 11, 0, 0)"
      ]
     },
     "execution_count": 80,
     "metadata": {},
     "output_type": "execute_result"
    }
   ],
   "source": [
    "datetime.fromtimestamp(1552251600)"
   ]
  },
  {
   "cell_type": "markdown",
   "metadata": {},
   "source": [
    "# Обработка ошибок"
   ]
  },
  {
   "cell_type": "code",
   "execution_count": 81,
   "metadata": {},
   "outputs": [],
   "source": [
    "some_num = '123'"
   ]
  },
  {
   "cell_type": "code",
   "execution_count": 82,
   "metadata": {},
   "outputs": [
    {
     "data": {
      "text/plain": [
       "123.0"
      ]
     },
     "execution_count": 82,
     "metadata": {},
     "output_type": "execute_result"
    }
   ],
   "source": [
    "float(some_num)"
   ]
  },
  {
   "cell_type": "code",
   "execution_count": 83,
   "metadata": {},
   "outputs": [],
   "source": [
    "ups = '123a'"
   ]
  },
  {
   "cell_type": "code",
   "execution_count": 84,
   "metadata": {
    "scrolled": true
   },
   "outputs": [
    {
     "ename": "ValueError",
     "evalue": "could not convert string to float: '123a'",
     "output_type": "error",
     "traceback": [
      "\u001b[1;31m---------------------------------------------------------------------------\u001b[0m",
      "\u001b[1;31mValueError\u001b[0m                                Traceback (most recent call last)",
      "\u001b[1;32m<ipython-input-84-4ec904cf99fe>\u001b[0m in \u001b[0;36m<module>\u001b[1;34m()\u001b[0m\n\u001b[1;32m----> 1\u001b[1;33m \u001b[0mfloat\u001b[0m\u001b[1;33m(\u001b[0m\u001b[0mups\u001b[0m\u001b[1;33m)\u001b[0m\u001b[1;33m\u001b[0m\u001b[0m\n\u001b[0m",
      "\u001b[1;31mValueError\u001b[0m: could not convert string to float: '123a'"
     ]
    }
   ],
   "source": [
    "float(ups)"
   ]
  },
  {
   "cell_type": "code",
   "execution_count": 85,
   "metadata": {},
   "outputs": [
    {
     "name": "stdout",
     "output_type": "stream",
     "text": [
      "Ошибка\n",
      "Проехали\n"
     ]
    }
   ],
   "source": [
    "try:\n",
    "    float(ups)\n",
    "\n",
    "except:\n",
    "    print('Ошибка')\n",
    "    \n",
    "print('Проехали')"
   ]
  },
  {
   "cell_type": "code",
   "execution_count": 86,
   "metadata": {},
   "outputs": [],
   "source": [
    "ups = '123fff'"
   ]
  },
  {
   "cell_type": "code",
   "execution_count": 87,
   "metadata": {},
   "outputs": [
    {
     "name": "stdout",
     "output_type": "stream",
     "text": [
      "None\n",
      "Проехали\n"
     ]
    },
    {
     "name": "stderr",
     "output_type": "stream",
     "text": [
      "Traceback (most recent call last):\n",
      "  File \"<ipython-input-87-0b6b66d46d0e>\", line 5, in <module>\n",
      "    float(ups)\n",
      "ValueError: could not convert string to float: '123fff'\n"
     ]
    }
   ],
   "source": [
    "# полная версия traceback\n",
    "import traceback\n",
    "\n",
    "try:\n",
    "    float(ups)\n",
    "\n",
    "except Exception:\n",
    "    print(traceback.print_exc())\n",
    "    \n",
    "print('Проехали')"
   ]
  },
  {
   "cell_type": "markdown",
   "metadata": {},
   "source": [
    "### Упражнение\n",
    "Создайте словарь stats = {'monday': 100, 'tuesday': 200}. \n",
    "\n",
    "Какой тип ошибки вызовет обращение stats['wednesday']?"
   ]
  },
  {
   "cell_type": "code",
   "execution_count": null,
   "metadata": {},
   "outputs": [],
   "source": []
  },
  {
   "cell_type": "code",
   "execution_count": null,
   "metadata": {},
   "outputs": [],
   "source": []
  },
  {
   "cell_type": "code",
   "execution_count": null,
   "metadata": {},
   "outputs": [],
   "source": []
  },
  {
   "cell_type": "markdown",
   "metadata": {},
   "source": [
    "# Большие файлы"
   ]
  },
  {
   "cell_type": "code",
   "execution_count": 88,
   "metadata": {},
   "outputs": [
    {
     "name": "stdout",
     "output_type": "stream",
     "text": [
      "1\n",
      "1\n",
      "1\n",
      "1\n",
      "2\n",
      "2\n",
      "3\n",
      "9\n"
     ]
    }
   ],
   "source": [
    "with open('unique_ids_data.csv') as f:\n",
    "    for line in f:\n",
    "        line = line.strip()\n",
    "        print(line)"
   ]
  },
  {
   "cell_type": "code",
   "execution_count": 89,
   "metadata": {},
   "outputs": [
    {
     "name": "stdout",
     "output_type": "stream",
     "text": [
      "4\n"
     ]
    }
   ],
   "source": [
    "unique_count = 1\n",
    "previous_user_id = None\n",
    "\n",
    "with open('unique_ids_data.csv') as f:\n",
    "    for line in f:\n",
    "        current_user_id = line.strip()\n",
    "        \n",
    "        if previous_user_id and previous_user_id != current_user_id:\n",
    "            unique_count += 1\n",
    "            \n",
    "        previous_user_id = current_user_id\n",
    "\n",
    "print(unique_count)"
   ]
  },
  {
   "cell_type": "markdown",
   "metadata": {},
   "source": [
    "### Словари и поиск\n",
    "Про хэш-таблицы https://habr.com/ru/post/247843/"
   ]
  },
  {
   "cell_type": "code",
   "execution_count": 90,
   "metadata": {},
   "outputs": [],
   "source": [
    "import pandas as pd"
   ]
  },
  {
   "cell_type": "code",
   "execution_count": 91,
   "metadata": {},
   "outputs": [
    {
     "data": {
      "text/html": [
       "<div>\n",
       "<style scoped>\n",
       "    .dataframe tbody tr th:only-of-type {\n",
       "        vertical-align: middle;\n",
       "    }\n",
       "\n",
       "    .dataframe tbody tr th {\n",
       "        vertical-align: top;\n",
       "    }\n",
       "\n",
       "    .dataframe thead th {\n",
       "        text-align: right;\n",
       "    }\n",
       "</style>\n",
       "<table border=\"1\" class=\"dataframe\">\n",
       "  <thead>\n",
       "    <tr style=\"text-align: right;\">\n",
       "      <th></th>\n",
       "      <th>day_number</th>\n",
       "      <th>user_id</th>\n",
       "      <th>category</th>\n",
       "      <th>cost</th>\n",
       "    </tr>\n",
       "  </thead>\n",
       "  <tbody>\n",
       "    <tr>\n",
       "      <th>0</th>\n",
       "      <td>14</td>\n",
       "      <td>26376</td>\n",
       "      <td>3</td>\n",
       "      <td>13301</td>\n",
       "    </tr>\n",
       "    <tr>\n",
       "      <th>1</th>\n",
       "      <td>12</td>\n",
       "      <td>7316</td>\n",
       "      <td>2</td>\n",
       "      <td>19329</td>\n",
       "    </tr>\n",
       "    <tr>\n",
       "      <th>2</th>\n",
       "      <td>28</td>\n",
       "      <td>2803</td>\n",
       "      <td>2</td>\n",
       "      <td>87381</td>\n",
       "    </tr>\n",
       "    <tr>\n",
       "      <th>3</th>\n",
       "      <td>25</td>\n",
       "      <td>22022</td>\n",
       "      <td>2</td>\n",
       "      <td>94036</td>\n",
       "    </tr>\n",
       "    <tr>\n",
       "      <th>4</th>\n",
       "      <td>20</td>\n",
       "      <td>13883</td>\n",
       "      <td>5</td>\n",
       "      <td>50722</td>\n",
       "    </tr>\n",
       "  </tbody>\n",
       "</table>\n",
       "</div>"
      ],
      "text/plain": [
       "   day_number  user_id  category   cost\n",
       "0          14    26376         3  13301\n",
       "1          12     7316         2  19329\n",
       "2          28     2803         2  87381\n",
       "3          25    22022         2  94036\n",
       "4          20    13883         5  50722"
      ]
     },
     "execution_count": 91,
     "metadata": {},
     "output_type": "execute_result"
    }
   ],
   "source": [
    "stats = pd.read_csv('stats.csv', names=['day_number', 'user_id', 'category', 'cost'])\n",
    "stats.head()"
   ]
  },
  {
   "cell_type": "code",
   "execution_count": 92,
   "metadata": {},
   "outputs": [
    {
     "name": "stdout",
     "output_type": "stream",
     "text": [
      "<class 'pandas.core.frame.DataFrame'>\n",
      "RangeIndex: 10000 entries, 0 to 9999\n",
      "Data columns (total 4 columns):\n",
      "day_number    10000 non-null int64\n",
      "user_id       10000 non-null int64\n",
      "category      10000 non-null int64\n",
      "cost          10000 non-null int64\n",
      "dtypes: int64(4)\n",
      "memory usage: 312.6 KB\n"
     ]
    }
   ],
   "source": [
    "stats.info()"
   ]
  },
  {
   "cell_type": "markdown",
   "metadata": {},
   "source": [
    "### В чем задача\n",
    "Надо по заданному значению первых трех столбцов найти значение cost"
   ]
  },
  {
   "cell_type": "code",
   "execution_count": 93,
   "metadata": {},
   "outputs": [],
   "source": [
    "line_to_find = [20, 20552, 3]"
   ]
  },
  {
   "cell_type": "markdown",
   "metadata": {},
   "source": [
    "**Вариант 1**\n",
    "\n",
    "Пробуем методами pandas (лучше не делайте так перед разработчиками)"
   ]
  },
  {
   "cell_type": "code",
   "execution_count": 94,
   "metadata": {},
   "outputs": [
    {
     "data": {
      "text/plain": [
       "4999    39156\n",
       "Name: cost, dtype: int64"
      ]
     },
     "execution_count": 94,
     "metadata": {},
     "output_type": "execute_result"
    }
   ],
   "source": [
    "stats[ (stats.day_number == line_to_find[0]) & \n",
    "       (stats.user_id == line_to_find[1]) & \n",
    "       (stats.category == line_to_find[2]) ].cost\n"
   ]
  },
  {
   "cell_type": "code",
   "execution_count": 95,
   "metadata": {},
   "outputs": [
    {
     "name": "stdout",
     "output_type": "stream",
     "text": [
      "4999    39156\n",
      "Name: cost, dtype: int64\n",
      "Wall time: 8.16 s\n"
     ]
    }
   ],
   "source": [
    "%%time\n",
    "for i in range(10**4):\n",
    "    cost = stats[ (stats.day_number == line_to_find[0]) & \n",
    "       (stats.user_id == line_to_find[1]) & \n",
    "       (stats.category == line_to_find[2]) ].cost\n",
    "\n",
    "# выводим результат последнего \"испытания\"\n",
    "print(cost)"
   ]
  },
  {
   "cell_type": "markdown",
   "metadata": {},
   "source": [
    "**Вариант 2**\n",
    "\n",
    "Загоняем все в список"
   ]
  },
  {
   "cell_type": "code",
   "execution_count": 96,
   "metadata": {},
   "outputs": [
    {
     "data": {
      "text/plain": [
       "[['14', '26376', '3', '13301'],\n",
       " ['12', '7316', '2', '19329'],\n",
       " ['28', '2803', '2', '87381'],\n",
       " ['25', '22022', '2', '94036'],\n",
       " ['20', '13883', '5', '50722']]"
      ]
     },
     "execution_count": 96,
     "metadata": {},
     "output_type": "execute_result"
    }
   ],
   "source": [
    "stats_list = []\n",
    "\n",
    "with open('stats.csv') as f:\n",
    "    for line in f:\n",
    "        line = line.strip().split(',')\n",
    "        stats_list.append(line)\n",
    "        \n",
    "stats_list[:5]"
   ]
  },
  {
   "cell_type": "code",
   "execution_count": 97,
   "metadata": {},
   "outputs": [],
   "source": [
    "# взято из середины, значение cost=39156\n",
    "line_to_find = ['20', '20552', '3']"
   ]
  },
  {
   "cell_type": "code",
   "execution_count": 98,
   "metadata": {},
   "outputs": [
    {
     "name": "stdout",
     "output_type": "stream",
     "text": [
      "39156\n"
     ]
    }
   ],
   "source": [
    "for line in stats_list:\n",
    "    if line[:3] == line_to_find:\n",
    "        print(line[3])\n",
    "        break"
   ]
  },
  {
   "cell_type": "code",
   "execution_count": 99,
   "metadata": {},
   "outputs": [
    {
     "name": "stdout",
     "output_type": "stream",
     "text": [
      "Wall time: 6 s\n"
     ]
    }
   ],
   "source": [
    "%%time\n",
    "for i in range(10**4):\n",
    "    for line in stats_list:\n",
    "        if line[:3] == line_to_find:\n",
    "            cost = line[3]\n",
    "            break"
   ]
  },
  {
   "cell_type": "markdown",
   "metadata": {},
   "source": [
    "**Вариант 3**\n",
    "\n",
    "Используем словари"
   ]
  },
  {
   "cell_type": "code",
   "execution_count": 100,
   "metadata": {},
   "outputs": [],
   "source": [
    "stats_dict = {}\n",
    "\n",
    "with open('stats.csv') as f:\n",
    "    for line in f:\n",
    "        line = line.strip().split(',')\n",
    "        stats_dict[tuple(line[:3])] = line[3]"
   ]
  },
  {
   "cell_type": "code",
   "execution_count": 101,
   "metadata": {},
   "outputs": [
    {
     "name": "stdout",
     "output_type": "stream",
     "text": [
      "('14', '26376', '3') 13301\n"
     ]
    }
   ],
   "source": [
    "for key, value in stats_dict.items():\n",
    "    print(key, value)\n",
    "    break"
   ]
  },
  {
   "cell_type": "code",
   "execution_count": 102,
   "metadata": {},
   "outputs": [],
   "source": [
    "line_to_find = ('20', '20552', '3')"
   ]
  },
  {
   "cell_type": "code",
   "execution_count": 103,
   "metadata": {},
   "outputs": [
    {
     "name": "stdout",
     "output_type": "stream",
     "text": [
      "39156\n",
      "Wall time: 2 ms\n"
     ]
    }
   ],
   "source": [
    "%%time\n",
    "for i in range(10**4):\n",
    "    cost = stats_dict[line_to_find]\n",
    "    \n",
    "print(cost)"
   ]
  }
 ],
 "metadata": {
  "kernelspec": {
   "display_name": "Python 3",
   "language": "python",
   "name": "python3"
  },
  "language_info": {
   "codemirror_mode": {
    "name": "ipython",
    "version": 3
   },
   "file_extension": ".py",
   "mimetype": "text/x-python",
   "name": "python",
   "nbconvert_exporter": "python",
   "pygments_lexer": "ipython3",
   "version": "3.6.4"
  }
 },
 "nbformat": 4,
 "nbformat_minor": 2
}
